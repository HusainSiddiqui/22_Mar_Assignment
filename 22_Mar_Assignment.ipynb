{
 "cells": [
  {
   "cell_type": "markdown",
   "metadata": {},
   "source": [
    "Q1. Pearson correlation coefficient is a measure of the linear relationship between two variables. Suppose\n",
    "you have collected data on the amount of time students spend studying for an exam and their final exam\n",
    "scores. Calculate the Pearson correlation coefficient between these two variables and interpret the result."
   ]
  },
  {
   "cell_type": "code",
   "execution_count": 1,
   "metadata": {},
   "outputs": [
    {
     "name": "stdout",
     "output_type": "stream",
     "text": [
      "Pearson Correlation Coefficient: 0.9912407071619304\n",
      "p-value: 0.00098280189771944\n"
     ]
    }
   ],
   "source": [
    "from scipy.stats import pearsonr\n",
    "\n",
    "# Define the dataset (example values)\n",
    "study_time = [10, 20, 30, 40, 50]\n",
    "exam_scores = [70, 75, 85, 90, 95]\n",
    "\n",
    "# Calculate the Pearson correlation coefficient\n",
    "correlation_coefficient, p_value = pearsonr(study_time, exam_scores)\n",
    "\n",
    "# Print the Pearson correlation coefficient\n",
    "print(\"Pearson Correlation Coefficient:\", correlation_coefficient)\n",
    "print(\"p-value:\", p_value)"
   ]
  },
  {
   "cell_type": "markdown",
   "metadata": {},
   "source": [
    "Q2. Spearman's rank correlation is a measure of the monotonic relationship between two variables.\n",
    "Suppose you have collected data on the amount of sleep individuals get each night and their overall job\n",
    "satisfaction level on a scale of 1 to 10. Calculate the Spearman's rank correlation between these two\n",
    "variables and interpret the result."
   ]
  },
  {
   "cell_type": "code",
   "execution_count": 2,
   "metadata": {},
   "outputs": [
    {
     "name": "stdout",
     "output_type": "stream",
     "text": [
      "Spearman's Rank Correlation Coefficient: 0.9486832980505137\n",
      "p-value: 0.013846832988859107\n"
     ]
    }
   ],
   "source": [
    "from scipy.stats import spearmanr\n",
    "\n",
    "# Define the dataset (example values)\n",
    "sleep_duration = [7, 6, 8, 7, 6]\n",
    "job_satisfaction = [8, 6, 9, 7, 5]\n",
    "\n",
    "# Calculate the Spearman's rank correlation coefficient\n",
    "correlation_coefficient, p_value = spearmanr(sleep_duration, job_satisfaction)\n",
    "\n",
    "# Print the Spearman's rank correlation coefficient\n",
    "print(\"Spearman's Rank Correlation Coefficient:\", correlation_coefficient)\n",
    "print(\"p-value:\", p_value)"
   ]
  },
  {
   "cell_type": "markdown",
   "metadata": {},
   "source": [
    "Q3. Suppose you are conducting a study to examine the relationship between the number of hours of\n",
    "exercise per week and body mass index (BMI) in a sample of adults. You collected data on both variables\n",
    "for 50 participants. Calculate the Pearson correlation coefficient and the Spearman's rank correlation\n",
    "between these two variables and compare the results."
   ]
  },
  {
   "cell_type": "code",
   "execution_count": 3,
   "metadata": {},
   "outputs": [
    {
     "name": "stdout",
     "output_type": "stream",
     "text": [
      "Pearson Correlation Coefficient: 0.9840598842754111\n",
      "Pearson p-value: 1.166441077179045e-37\n",
      "Spearman's Rank Correlation Coefficient: 0.9848813872222051\n",
      "Spearman's p-value: 3.306141837546433e-38\n"
     ]
    }
   ],
   "source": [
    "import numpy as np\n",
    "from scipy.stats import pearsonr, spearmanr\n",
    "\n",
    "# Define the dataset (example values)\n",
    "exercise_hours = [5, 7, 3, 4, 6, 2, 1, 3, 5, 4, 6, 2, 3, 4, 5, 1, 2, 6, 3, 4, 5, 2, 1, 3, 4, 5, 6, 2, 1, 3, 5, 7, 2, 4, 6, 3, 5, 1, 2, 4, 6, 2, 4, 5, 3, 6, 2, 1, 3, 5]\n",
    "bmi = [24.1, 26.5, 22.3, 23.8, 27.2, 21.6, 20.1, 22.7, 25.3, 23.9, 26.1, 21.3, 22.5, 23.4, 24.8, 20.2, 21.7, 26.3, 22.6, 23.6, 24.7, 21.1, 20.4, 22.9, 23.5, 24.9, 26.8, 21.8, 20.6, 22.8, 25.1, 27.3, 21.5, 23.7, 26.7, 22.2, 25.5, 20.3, 21.9, 23.8, 26.6, 21.2, 23.2, 24.6, 22.4, 26.9, 21.4, 20.5, 22.1, 25.2]\n",
    "\n",
    "# Calculate the Pearson correlation coefficient\n",
    "pearson_coefficient, pearson_p_value = pearsonr(exercise_hours, bmi)\n",
    "\n",
    "# Calculate the Spearman's rank correlation coefficient\n",
    "spearman_coefficient, spearman_p_value = spearmanr(exercise_hours, bmi)\n",
    "\n",
    "# Print the correlation coefficients and p-values\n",
    "print(\"Pearson Correlation Coefficient:\", pearson_coefficient)\n",
    "print(\"Pearson p-value:\", pearson_p_value)\n",
    "print(\"Spearman's Rank Correlation Coefficient:\", spearman_coefficient)\n",
    "print(\"Spearman's p-value:\", spearman_p_value)"
   ]
  },
  {
   "cell_type": "markdown",
   "metadata": {},
   "source": [
    "Q4. A researcher is interested in examining the relationship between the number of hours individuals\n",
    "spend watching television per day and their level of physical activity. The researcher collected data on\n",
    "both variables from a sample of 50 participants. Calculate the Pearson correlation coefficient between\n",
    "these two variables."
   ]
  },
  {
   "cell_type": "code",
   "execution_count": 4,
   "metadata": {},
   "outputs": [
    {
     "name": "stdout",
     "output_type": "stream",
     "text": [
      "Pearson Correlation Coefficient: 1.0\n",
      "p-value: 0.0\n"
     ]
    }
   ],
   "source": [
    "from scipy.stats import pearsonr\n",
    "\n",
    "# Define the dataset (example values)\n",
    "tv_hours = [2, 3, 4, 5, 6, 1, 2, 3, 4, 5, 6, 1, 2, 3, 4, 5, 6, 1, 2, 3, 4, 5, 6, 1, 2, 3, 4, 5, 6, 1, 2, 3, 4, 5, 6, 1, 2, 3, 4, 5, 6, 1, 2, 3, 4, 5, 6, 1, 2, 3, 4]\n",
    "physical_activity = [3, 4, 5, 6, 7, 2, 3, 4, 5, 6, 7, 2, 3, 4, 5, 6, 7, 2, 3, 4, 5, 6, 7, 2, 3, 4, 5, 6, 7, 2, 3, 4, 5, 6, 7, 2, 3, 4, 5, 6, 7, 2, 3, 4, 5, 6, 7, 2, 3, 4, 5]\n",
    "\n",
    "# Calculate the Pearson correlation coefficient\n",
    "correlation_coefficient, p_value = pearsonr(tv_hours, physical_activity)\n",
    "\n",
    "# Print the Pearson correlation coefficient and p-value\n",
    "print(\"Pearson Correlation Coefficient:\", correlation_coefficient)\n",
    "print(\"p-value:\", p_value)"
   ]
  },
  {
   "cell_type": "markdown",
   "metadata": {},
   "source": [
    "Q5. A survey was conducted to examine the relationship between age and preference for a particular\n",
    "brand of soft drink. The survey results are shown below:"
   ]
  },
  {
   "cell_type": "markdown",
   "metadata": {},
   "source": [
    "|Age(Years)|Soft drink Preference|\n",
    "|---|---|\n",
    "|25 |Coke|\n",
    "|42|Pepsi|\n",
    "|37|Mountain dew|\n",
    "|19|Coke|\n",
    "|31|Pepsi|\n",
    "|28|Coke|"
   ]
  },
  {
   "cell_type": "code",
   "execution_count": 5,
   "metadata": {},
   "outputs": [
    {
     "name": "stdout",
     "output_type": "stream",
     "text": [
      "Soft drink Preference  Coke  Mountain dew  Pepsi\n",
      "Age(Years)                                      \n",
      "19                      1.0           NaN    NaN\n",
      "25                      1.0           NaN    NaN\n",
      "28                      1.0           NaN    NaN\n",
      "31                      NaN           NaN    1.0\n",
      "37                      NaN           1.0    NaN\n",
      "42                      NaN           NaN    1.0\n"
     ]
    }
   ],
   "source": [
    "import pandas as pd\n",
    "\n",
    "# Define the dataset\n",
    "data = pd.DataFrame({\n",
    "    'Age(Years)': [25, 42, 37, 19, 31, 28],\n",
    "    'Soft drink Preference': ['Coke', 'Pepsi', 'Mountain dew', 'Coke', 'Pepsi', 'Coke']\n",
    "})\n",
    "\n",
    "# Calculate the frequency distribution of soft drink preferences by age\n",
    "preference_counts = data.groupby(['Age(Years)', 'Soft drink Preference']).size().unstack()\n",
    "\n",
    "print(preference_counts)"
   ]
  },
  {
   "cell_type": "markdown",
   "metadata": {},
   "source": [
    "Q6. A company is interested in examining the relationship between the number of sales calls made per day\n",
    "and the number of sales made per week. The company collected data on both variables from a sample of\n",
    "30 sales representatives. Calculate the Pearson correlation coefficient between these two variables."
   ]
  },
  {
   "cell_type": "code",
   "execution_count": 6,
   "metadata": {},
   "outputs": [
    {
     "name": "stdout",
     "output_type": "stream",
     "text": [
      "Pearson Correlation Coefficient: 0.9999999999999997\n",
      "p-value: 5.06226600669572e-214\n"
     ]
    }
   ],
   "source": [
    "from scipy.stats import pearsonr\n",
    "\n",
    "# Define the dataset (example values)\n",
    "sales_calls_per_day = [12, 10, 11, 9, 13, 14, 10, 8, 12, 11, 9, 10, 13, 15, 12, 9, 10, 14, 11, 12, 9, 13, 12, 11, 10, 14, 15, 10, 9, 11]\n",
    "sales_per_week = [50, 40, 45, 35, 55, 60, 40, 30, 50, 45, 35, 40, 55, 65, 50, 35, 40, 60, 45, 50, 35, 55, 50, 45, 40, 60, 65, 40, 35, 45]\n",
    "\n",
    "# Calculate the Pearson correlation coefficient\n",
    "correlation_coefficient, p_value = pearsonr(sales_calls_per_day, sales_per_week)\n",
    "\n",
    "# Print the Pearson correlation coefficient and p-value\n",
    "print(\"Pearson Correlation Coefficient:\", correlation_coefficient)\n",
    "print(\"p-value:\", p_value)\n"
   ]
  }
 ],
 "metadata": {
  "kernelspec": {
   "display_name": "Python 3",
   "language": "python",
   "name": "python3"
  },
  "language_info": {
   "codemirror_mode": {
    "name": "ipython",
    "version": 3
   },
   "file_extension": ".py",
   "mimetype": "text/x-python",
   "name": "python",
   "nbconvert_exporter": "python",
   "pygments_lexer": "ipython3",
   "version": "3.6.5"
  }
 },
 "nbformat": 4,
 "nbformat_minor": 2
}
